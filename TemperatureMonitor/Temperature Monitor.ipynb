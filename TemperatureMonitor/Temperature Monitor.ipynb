{
 "cells": [
  {
   "cell_type": "code",
   "execution_count": 1,
   "metadata": {
    "ExecuteTime": {
     "end_time": "2019-07-12T20:51:15.862127Z",
     "start_time": "2019-07-12T20:51:14.353986Z"
    }
   },
   "outputs": [],
   "source": [
    "import pandas as pd\n",
    "from bokeh.io import show, output_file, save\n",
    "from bokeh.layouts import column\n",
    "from bokeh.models import ColumnDataSource, RangeTool\n",
    "from bokeh.plotting import figure\n",
    "import time;  # This is required to include time module.\n",
    "import datetime"
   ]
  },
  {
   "cell_type": "code",
   "execution_count": 2,
   "metadata": {
    "ExecuteTime": {
     "end_time": "2019-07-12T20:51:15.915933Z",
     "start_time": "2019-07-12T20:51:15.863771Z"
    }
   },
   "outputs": [],
   "source": [
    "df=pd.read_csv('temp.csv')"
   ]
  },
  {
   "cell_type": "code",
   "execution_count": 3,
   "metadata": {
    "ExecuteTime": {
     "end_time": "2019-07-12T20:51:15.919911Z",
     "start_time": "2019-07-12T20:51:15.917451Z"
    }
   },
   "outputs": [],
   "source": [
    "df.columns=['Epoch','Temperature','Humidity']"
   ]
  },
  {
   "cell_type": "code",
   "execution_count": 4,
   "metadata": {
    "ExecuteTime": {
     "end_time": "2019-07-12T20:51:15.929368Z",
     "start_time": "2019-07-12T20:51:15.922209Z"
    }
   },
   "outputs": [],
   "source": [
    "df['Date']=(pd.to_datetime(df['Epoch'],unit='s')) "
   ]
  },
  {
   "cell_type": "code",
   "execution_count": 5,
   "metadata": {
    "ExecuteTime": {
     "end_time": "2019-07-12T20:51:15.934842Z",
     "start_time": "2019-07-12T20:51:15.931799Z"
    }
   },
   "outputs": [],
   "source": [
    "dt_now = datetime.datetime.now()\n",
    "yesterday = dt_now - datetime.timedelta(days=1)"
   ]
  },
  {
   "cell_type": "code",
   "execution_count": 6,
   "metadata": {
    "ExecuteTime": {
     "end_time": "2019-07-12T20:51:15.945812Z",
     "start_time": "2019-07-12T20:51:15.936518Z"
    }
   },
   "outputs": [],
   "source": [
    "data = df[['Date','Temperature']][df['Date']>yesterday]"
   ]
  },
  {
   "cell_type": "code",
   "execution_count": 14,
   "metadata": {
    "ExecuteTime": {
     "end_time": "2019-07-12T20:56:30.233280Z",
     "start_time": "2019-07-12T20:56:30.142548Z"
    }
   },
   "outputs": [
    {
     "data": {
      "text/plain": [
       "'/Users/roberto/rasp_scripts/TemperatureMonitor/temp.html'"
      ]
     },
     "execution_count": 14,
     "metadata": {},
     "output_type": "execute_result"
    }
   ],
   "source": [
    "p = figure(plot_height=300, plot_width=800, tools=\"xpan,reset,save,hover\", toolbar_location='left',\n",
    "           x_axis_type=\"datetime\", x_axis_location=\"above\",\n",
    "           background_fill_color=\"#efefef\", x_range=(data['Date'].min(), data['Date'].max()))\n",
    "\n",
    "p.line('Date', 'Temperature', source=data)\n",
    "p.yaxis.axis_label = 'Temperature [C]'\n",
    "\n",
    "select = figure(title=\"Drag the middle and edges of the selection box to change the range above\",\n",
    "                plot_height=130, plot_width=800, y_range=p.y_range,\n",
    "                x_axis_type=\"datetime\", y_axis_type=None,\n",
    "                tools=\"\", toolbar_location=None, background_fill_color=\"#efefef\")\n",
    "\n",
    "range_tool = RangeTool(x_range=p.x_range)\n",
    "range_tool.overlay.fill_color = \"navy\"\n",
    "range_tool.overlay.fill_alpha = 0.2\n",
    "\n",
    "select.line('Date', 'Temperature', source=data)\n",
    "select.ygrid.grid_line_color = None\n",
    "select.add_tools(range_tool)\n",
    "select.toolbar.active_multi = range_tool\n",
    "\n",
    "#show(column(p, select))\n",
    "output_file(\"temp.html\")\n",
    "save(column(p, select))\n"
   ]
  },
  {
   "cell_type": "code",
   "execution_count": null,
   "metadata": {},
   "outputs": [],
   "source": []
  }
 ],
 "metadata": {
  "kernelspec": {
   "display_name": "Python 3",
   "language": "python",
   "name": "python3"
  },
  "language_info": {
   "codemirror_mode": {
    "name": "ipython",
    "version": 3
   },
   "file_extension": ".py",
   "mimetype": "text/x-python",
   "name": "python",
   "nbconvert_exporter": "python",
   "pygments_lexer": "ipython3",
   "version": "3.7.0"
  },
  "latex_envs": {
   "LaTeX_envs_menu_present": true,
   "autocomplete": true,
   "bibliofile": "biblio.bib",
   "cite_by": "apalike",
   "current_citInitial": 1,
   "eqLabelWithNumbers": true,
   "eqNumInitial": 1,
   "hotkeys": {
    "equation": "Ctrl-E",
    "itemize": "Ctrl-I"
   },
   "labels_anchors": false,
   "latex_user_defs": false,
   "report_style_numbering": false,
   "user_envs_cfg": false
  },
  "toc": {
   "nav_menu": {},
   "number_sections": true,
   "sideBar": true,
   "skip_h1_title": false,
   "toc_cell": false,
   "toc_position": {},
   "toc_section_display": "block",
   "toc_window_display": false
  }
 },
 "nbformat": 4,
 "nbformat_minor": 2
}
