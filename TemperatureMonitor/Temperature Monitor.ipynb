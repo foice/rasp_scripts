{
 "cells": [
  {
   "cell_type": "markdown",
   "metadata": {},
   "source": [
    "# Make HTML and PNG"
   ]
  },
  {
   "cell_type": "code",
   "execution_count": 14,
   "metadata": {
    "ExecuteTime": {
     "end_time": "2019-10-13T10:12:45.914166Z",
     "start_time": "2019-10-13T10:12:45.903494Z"
    }
   },
   "outputs": [],
   "source": [
    "import pandas as pd\n",
    "import time;  # This is required to include time module.\n",
    "import datetime\n",
    "import optparse"
   ]
  },
  {
   "cell_type": "code",
   "execution_count": 2,
   "metadata": {
    "ExecuteTime": {
     "end_time": "2019-10-13T10:03:15.012175Z",
     "start_time": "2019-10-13T10:03:13.345849Z"
    }
   },
   "outputs": [],
   "source": [
    "import utils"
   ]
  },
  {
   "cell_type": "code",
   "execution_count": 12,
   "metadata": {
    "ExecuteTime": {
     "end_time": "2019-10-13T10:10:06.779202Z",
     "start_time": "2019-10-13T10:10:06.776659Z"
    }
   },
   "outputs": [],
   "source": [
    "VERSION=1.0\n",
    "usage='TemperatureMonitor.py [-f temp.csv]'\n",
    "epilog=''"
   ]
  },
  {
   "cell_type": "code",
   "execution_count": 6,
   "metadata": {
    "ExecuteTime": {
     "end_time": "2019-10-13T10:03:19.585574Z",
     "start_time": "2019-10-13T10:03:19.582116Z"
    }
   },
   "outputs": [],
   "source": [
    "def SelectDataAndPlot(df,cols=None,dateField='Date',days=7,output_format='png'):\n",
    "    \"\"\" Select a range of days starting `days` ago from its first positional argument\"\"\"\n",
    "    if cols is not None:\n",
    "        dt_now = datetime.datetime.now()\n",
    "        beginning = dt_now - datetime.timedelta(days=days)\n",
    "        data = df[cols][df[dateField]>beginning]\n",
    "        utils.makeDateSeriesPlot(data,output_format=output_format,file_name_root=str(days))\n",
    "    else:\n",
    "        print('cols cannot be None')"
   ]
  },
  {
   "cell_type": "code",
   "execution_count": null,
   "metadata": {},
   "outputs": [],
   "source": [
    "def main():    \n",
    "    parser = optparse.OptionParser(usage=usage, version=VERSION,epilog=epilog)\n",
    "    parser.add_option('-f', '--file',action='store',default='temp.csv',help=\"CSV file to process\")\n",
    "    parser.add_option('-d', '--days',action='store',default=365,type=int,help=\"number of days to plot\")\n",
    "    options, args = parser.parse_args()\n",
    "    days=options.days\n",
    "    fileCSV=options.file\n",
    "    ##########################################\n",
    "    df=pd.read_csv(fileCSV)\n",
    "    df.columns=['Epoch','Temperature','Humidity']\n",
    "    df['Date']=(pd.to_datetime(df['Epoch'],unit='s'))\n",
    "    ##########################################\n",
    "    SelectDataAndPlot(df,cols=['Date','Temperature'],days=days)"
   ]
  },
  {
   "cell_type": "code",
   "execution_count": null,
   "metadata": {},
   "outputs": [],
   "source": [
    "if __name__ == \"__main__\":\n",
    "    main()"
   ]
  }
 ],
 "metadata": {
  "kernelspec": {
   "display_name": "Python 3",
   "language": "python",
   "name": "python3"
  },
  "language_info": {
   "codemirror_mode": {
    "name": "ipython",
    "version": 3
   },
   "file_extension": ".py",
   "mimetype": "text/x-python",
   "name": "python",
   "nbconvert_exporter": "python",
   "pygments_lexer": "ipython3",
   "version": "3.7.0"
  },
  "latex_envs": {
   "LaTeX_envs_menu_present": true,
   "autocomplete": true,
   "bibliofile": "biblio.bib",
   "cite_by": "apalike",
   "current_citInitial": 1,
   "eqLabelWithNumbers": true,
   "eqNumInitial": 1,
   "hotkeys": {
    "equation": "Ctrl-E",
    "itemize": "Ctrl-I"
   },
   "labels_anchors": false,
   "latex_user_defs": false,
   "report_style_numbering": false,
   "user_envs_cfg": false
  },
  "toc": {
   "nav_menu": {},
   "number_sections": true,
   "sideBar": true,
   "skip_h1_title": false,
   "toc_cell": false,
   "toc_position": {},
   "toc_section_display": "block",
   "toc_window_display": false
  }
 },
 "nbformat": 4,
 "nbformat_minor": 2
}
